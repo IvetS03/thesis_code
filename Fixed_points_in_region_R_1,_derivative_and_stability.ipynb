{
  "nbformat": 4,
  "nbformat_minor": 0,
  "metadata": {
    "colab": {
      "provenance": []
    },
    "kernelspec": {
      "name": "python3",
      "display_name": "Python 3"
    },
    "language_info": {
      "name": "python"
    }
  },
  "cells": [
    {
      "cell_type": "code",
      "execution_count": 1,
      "metadata": {
        "id": "5dErf9AEioOs",
        "colab": {
          "base_uri": "https://localhost:8080/"
        },
        "outputId": "dc85cba6-32ca-4e51-f771-8c2ab75162c6"
      },
      "outputs": [
        {
          "output_type": "stream",
          "name": "stdout",
          "text": [
            "Fixed points in Region R_1\n",
            "\n",
            "⎡  ⎛                                               _______________________________________________ ↪\n",
            "⎢  ⎜         2                                    ╱      2  2    2         2                 2     ↪\n",
            "⎢η⋅⎝2⋅η⋅ω⋅cos (α) - η⋅ω + η⋅cos(α) + ω⋅cos(α) - ╲╱  - 4⋅η ⋅ω ⋅cos (α) - 4⋅η ⋅ω⋅cos(α) - 4⋅η⋅ω ⋅cos ↪\n",
            "⎢───────────────────────────────────────────────────────────────────────────────────────────────── ↪\n",
            "⎢                                                               2                                  ↪\n",
            "⎣                                                              η  + 2⋅η⋅cos(α) + 1                 ↪\n",
            "\n",
            "↪ __________________________________           ⎞    ⎛                                              ↪\n",
            "↪                             2                ⎟    ⎜         2                                    ↪\n",
            "↪ (α) - 2⋅η⋅ω + 2⋅η⋅cos(α) - ω  + 1 ⋅sin(α) + 1⎠  η⋅⎝2⋅η⋅ω⋅cos (α) - η⋅ω + η⋅cos(α) + ω⋅cos(α) + ╲ ↪\n",
            "↪ ──────────────────────────────────────────────, ──────────────────────────────────────────────── ↪\n",
            "↪                                                                                                  ↪\n",
            "↪                                                                                                  ↪\n",
            "\n",
            "↪   _________________________________________________________________________________           ⎞⎤\n",
            "↪  ╱      2  2    2         2                 2                                2                ⎟⎥\n",
            "↪ ╱  - 4⋅η ⋅ω ⋅cos (α) - 4⋅η ⋅ω⋅cos(α) - 4⋅η⋅ω ⋅cos(α) - 2⋅η⋅ω + 2⋅η⋅cos(α) - ω  + 1 ⋅sin(α) + 1⎠⎥\n",
            "↪ ───────────────────────────────────────────────────────────────────────────────────────────────⎥\n",
            "↪                2                                                                               ⎥\n",
            "↪               η  + 2⋅η⋅cos(α) + 1                                                              ⎦\n",
            "\n",
            "Derivative\n",
            "\n",
            "η⋅(-μ - ω)⋅sin(α)    \n",
            "───────────────── - 1\n",
            "   ______________    \n",
            "  ╱            2     \n",
            "╲╱  1 - (μ + ω)      \n",
            "\n",
            "Numerically Evaluated Fixed Points\n",
            "Fixed Point 1: 3.26116259917836\n",
            "Fixed Point 2: 4.85764928200976\n",
            "\n",
            "Stability\n",
            "Fixed Point 1: 3.26116259917836, Stability: Unstable\n",
            "Fixed Point 2: 4.85764928200976, Stability: Stable\n"
          ]
        }
      ],
      "source": [
        "import sympy as sp\n",
        "from sympy import symbols, Eq, solve, sqrt, cos, sin, simplify\n",
        "\n",
        "#Region R_1\n",
        "\n",
        "#Finding fixed points\n",
        "omega, mu, eta, alpha=symbols('omega mu eta alpha')\n",
        "equation1=Eq(sqrt(1-(omega+mu)**2),mu*((1+eta*cos(alpha))/(eta*sin(alpha)))-(1+omega*cos(alpha))/sin(alpha))\n",
        "solution1=solve(equation1, mu)\n",
        "print(\"Fixed points in Region R_1\")\n",
        "print(\"\")\n",
        "sp.pprint(solution1)\n",
        "print(\"\")\n",
        "\n",
        "#Finding derivative\n",
        "f_mu=-mu+eta*(1-(omega+eta)*cos(alpha)+(sqrt(1-(omega+mu)**2))*sin(alpha))\n",
        "df_dmu=sp.diff(f_mu, mu)\n",
        "print(\"Derivative\")\n",
        "print(\"\")\n",
        "sp.pprint(df_dmu, use_unicode=True)\n",
        "print(\"\")\n",
        "\n",
        "#Specific values\n",
        "omega_val=-4\n",
        "eta_val=10\n",
        "alpha_val=sp.pi/2\n",
        "\n",
        "#Substituting specific values\n",
        "evaluated_fixed_points =[\n",
        "    simplify(sol.subs({omega: omega_val, eta: eta_val, alpha: alpha_val}).evalf())\n",
        "    for sol in solution1\n",
        "]\n",
        "print(\"Numerically Evaluated Fixed Points\")\n",
        "for idx, point in enumerate(evaluated_fixed_points, start=1):\n",
        "    print(f\"Fixed Point {idx}: {point}\")\n",
        "print(\"\")\n",
        "\n",
        "#Analysis of stability\n",
        "stability=[]\n",
        "for point in evaluated_fixed_points:\n",
        "    derivative_at_point = df_dmu.subs({omega: omega_val, eta: eta_val, alpha: alpha_val, mu: point}).evalf()\n",
        "    if derivative_at_point < 0:\n",
        "        stability.append(\"Stable\")\n",
        "    elif derivative_at_point > 0:\n",
        "        stability.append(\"Unstable\")\n",
        "    else:\n",
        "        stability.append(\"Not found\")\n",
        "\n",
        "\n",
        "print(\"Stability\")\n",
        "for idx, (point, stability_status) in enumerate(zip(evaluated_fixed_points, stability), start=1):\n",
        "    print(f\"Fixed Point {idx}: {point}, Stability: {stability_status}\")\n"
      ]
    }
  ]
}