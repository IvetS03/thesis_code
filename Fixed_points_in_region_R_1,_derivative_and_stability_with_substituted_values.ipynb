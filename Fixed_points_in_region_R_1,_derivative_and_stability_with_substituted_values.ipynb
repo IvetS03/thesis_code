{
  "nbformat": 4,
  "nbformat_minor": 0,
  "metadata": {
    "colab": {
      "provenance": []
    },
    "kernelspec": {
      "name": "python3",
      "display_name": "Python 3"
    },
    "language_info": {
      "name": "python"
    }
  },
  "cells": [
    {
      "cell_type": "code",
      "execution_count": 1,
      "metadata": {
        "colab": {
          "base_uri": "https://localhost:8080/"
        },
        "id": "7q5txfIx35Ry",
        "outputId": "c906f5ea-bbf5-4626-bba0-96948cea0e13"
      },
      "outputs": [
        {
          "output_type": "stream",
          "name": "stdout",
          "text": [
            "Solution 1\n",
            "       ________________                         \n",
            "- 10⋅╲╱ 20⋅cos(α) - 95 ⋅sin(α) - 60⋅cos(α) + 390\n",
            "────────────────────────────────────────────────\n",
            "                20⋅cos(α) + 101                 \n",
            "\n",
            "Solution 2\n",
            "     ________________                         \n",
            "10⋅╲╱ 20⋅cos(α) - 95 ⋅sin(α) - 60⋅cos(α) + 390\n",
            "──────────────────────────────────────────────\n",
            "               20⋅cos(α) + 101                \n",
            "\n",
            "Derivative df/dmu\n",
            "  ⎛           (-μ - ω)⋅sin(α) ⎞    \n",
            "η⋅⎜-cos(α) + ─────────────────⎟ - 1\n",
            "  ⎜             ______________⎟    \n",
            "  ⎜            ╱            2 ⎟    \n",
            "  ⎝          ╲╱  1 - (μ + ω)  ⎠    \n",
            "\n",
            "Derivative df/dmu with substituted values\n",
            "                 10⋅(4 - μ)⋅sin(α)\n",
            "-10⋅cos(α) - 1 + ─────────────────\n",
            "                    ______________\n",
            "                   ╱            2 \n",
            "                 ╲╱  1 - (μ - 4)  \n",
            "\n"
          ]
        }
      ],
      "source": [
        "import sympy as sp\n",
        "from sympy import symbols, Eq, solve, sqrt, cos, sin, simplify\n",
        "import numpy as np\n",
        "import matplotlib.pyplot as plt\n",
        "\n",
        "# Region R_1\n",
        "\n",
        "omega,mu,eta,alpha=sp.symbols('omega mu eta alpha', real=True)\n",
        "\n",
        "omega_val=-4\n",
        "eta_val=10\n",
        "\n",
        "#Solving equation in order to get fixed points\n",
        "equation_expr=sp.sqrt(1-(omega+mu)**2)-(mu*((1+eta*sp.cos(alpha))/(eta*sp.sin(alpha)))+(1+omega*sp.cos(alpha))/sp.sin(alpha))\n",
        "equation=sp.Eq(equation_expr,0)\n",
        "eq_sub=equation.subs({omega: omega_val, eta: eta_val})\n",
        "solutions=sp.solve(eq_sub, mu, dict=False)\n",
        "sol_expr_1=solutions[0]\n",
        "sol_expr_2=solutions[1]\n",
        "\n",
        "print(\"Solution 1\")\n",
        "sp.pprint(sol_expr_1)\n",
        "print()\n",
        "print(\"Solution 2\")\n",
        "sp.pprint(sol_expr_2)\n",
        "print()\n",
        "\n",
        "f_mu_expr=-mu+eta*(1-(omega+mu)*sp.cos(alpha)+sp.sqrt(1-(omega+mu)**2)*sp.sin(alpha))\n",
        "df_dmu_expr=sp.diff(f_mu_expr,mu)\n",
        "df_dmu_sub=df_dmu_expr.subs({omega: omega_val, eta: eta_val})\n",
        "\n",
        "print(\"Derivative df/dmu\")\n",
        "sp.pprint(df_dmu_expr)\n",
        "print()\n",
        "\n",
        "print(\"Derivative df/dmu with substituted values\")\n",
        "sp.pprint(df_dmu_sub)\n",
        "print()\n",
        "\n",
        "alpha_min=0\n",
        "alpha_max=2*np.pi\n",
        "n_points=100\n",
        "alpha_vals=np.linspace(alpha_min, alpha_max, n_points)\n",
        "\n",
        "mu_fun_1=sp.lambdify(alpha, sol_expr_1, 'numpy')\n",
        "mu_fun_2=sp.lambdify(alpha, sol_expr_2, 'numpy')\n",
        "\n",
        "df_dmu_fun=sp.lambdify((alpha, mu), df_dmu_sub, 'numpy')\n",
        "\n"
      ]
    }
  ]
}