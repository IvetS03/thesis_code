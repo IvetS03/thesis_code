{
  "nbformat": 4,
  "nbformat_minor": 0,
  "metadata": {
    "colab": {
      "provenance": []
    },
    "kernelspec": {
      "name": "python3",
      "display_name": "Python 3"
    },
    "language_info": {
      "name": "python"
    }
  },
  "cells": [
    {
      "cell_type": "code",
      "execution_count": 1,
      "metadata": {
        "id": "iUOE8hHfbFCj",
        "colab": {
          "base_uri": "https://localhost:8080/"
        },
        "outputId": "94d5f00e-b7f9-43d6-8ce5-675015ee232f"
      },
      "outputs": [
        {
          "output_type": "stream",
          "name": "stdout",
          "text": [
            "Fixed points in Region R_2\n",
            "\n",
            "⎡  ⎛                         __________________________________           ⎞    ⎛                   ↪\n",
            "⎢  ⎜                        ╱  2                         2                ⎟    ⎜                   ↪\n",
            "⎢η⋅⎝η⋅cos(α) - ω⋅cos(α) - ╲╱  η  + 2⋅η⋅ω - 2⋅η⋅cos(α) + ω  - 1 ⋅cos(α) + 1⎠  η⋅⎝η⋅cos(α) - ω⋅cos(α ↪\n",
            "⎢──────────────────────────────────────────────────────────────────────────, ───────────────────── ↪\n",
            "⎣                              2⋅η⋅cos(α) + 1                                                      ↪\n",
            "\n",
            "↪        __________________________________           ⎞⎤\n",
            "↪       ╱  2                         2                ⎟⎥\n",
            "↪ ) + ╲╱  η  + 2⋅η⋅ω - 2⋅η⋅cos(α) + ω  - 1 ⋅cos(α) + 1⎠⎥\n",
            "↪ ─────────────────────────────────────────────────────⎥\n",
            "↪          2⋅η⋅cos(α) + 1                              ⎦\n",
            "\n",
            "Derivative\n",
            "\n",
            "  η⋅(μ + ω)⋅cos(α)     \n",
            "- ───────────────── - 1\n",
            "     ______________    \n",
            "    ╱        2         \n",
            "  ╲╱  (μ + ω)  - 1     \n",
            "\n",
            "Numerically Evaluated Fixed Points\n",
            "Fixed Point 1: 10.0000000000000\n",
            "Fixed Point 2: 10.0000000000000\n",
            "\n",
            "Stability\n",
            "Fixed Point 1: 10.0000000000000, Stability: Stable\n",
            "Fixed Point 2: 10.0000000000000, Stability: Stable\n"
          ]
        }
      ],
      "source": [
        "import sympy as sp\n",
        "from sympy import symbols, Eq, solve, sqrt, cos, sin, simplify\n",
        "\n",
        "\n",
        "#Region R_2\n",
        "\n",
        "#Finding fixed points\n",
        "omega, mu, eta, alpha=symbols('omega mu eta alpha')\n",
        "equation2=Eq(sqrt((omega+mu)**2-1),-mu*((1+eta*cos(alpha))/(eta*cos(alpha)))+(1-omega*cos(alpha))/cos(alpha))\n",
        "solution2=solve(equation2, mu)\n",
        "print(\"Fixed points in Region R_2\")\n",
        "print(\"\")\n",
        "sp.pprint(solution2)\n",
        "print(\"\")\n",
        "\n",
        "#Finding derivative\n",
        "mu, eta, omega, alpha = sp.symbols('mu eta omega alpha')\n",
        "cos = sp.cos\n",
        "sin = sp.sin\n",
        "f_mu = -mu+eta*(1-(omega+eta)*cos(alpha)-(sqrt((omega+mu)**2-1))*cos(alpha))\n",
        "df_dmu = sp.diff(f_mu, mu)\n",
        "print(\"Derivative\")\n",
        "print(\"\")\n",
        "sp.pprint(df_dmu, use_unicode=True)\n",
        "print(\"\")\n",
        "\n",
        "#Specific values\n",
        "omega_val=-4\n",
        "eta_val=10\n",
        "alpha_val=sp.pi/2\n",
        "\n",
        "evaluated_fixed_points=[\n",
        "    simplify(sol.subs({omega: omega_val, eta: eta_val, alpha: alpha_val}).evalf())\n",
        "    for sol in solution2\n",
        "]\n",
        "print(\"Numerically Evaluated Fixed Points\")\n",
        "for idx, point in enumerate(evaluated_fixed_points, start=1):\n",
        "    print(f\"Fixed Point {idx}: {point}\")\n",
        "print(\"\")\n",
        "\n",
        "stability=[]\n",
        "for point in evaluated_fixed_points:\n",
        "    derivative_at_point = df_dmu.subs({omega: omega_val, eta: eta_val, alpha: alpha_val, mu: point}).evalf()\n",
        "    if derivative_at_point.is_real:\n",
        "        if derivative_at_point < 0:\n",
        "            stability.append(\"Stable\")\n",
        "        elif derivative_at_point > 0:\n",
        "            stability.append(\"Unstable\")\n",
        "        else:\n",
        "            stability.append(\"Not found\")\n",
        "\n",
        "print(\"Stability\")\n",
        "for idx, (point, stability_status) in enumerate(zip(evaluated_fixed_points, stability), start=1):\n",
        "    print(f\"Fixed Point {idx}: {point}, Stability: {stability_status}\")"
      ]
    }
  ]
}