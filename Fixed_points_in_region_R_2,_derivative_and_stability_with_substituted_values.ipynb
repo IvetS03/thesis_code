{
  "nbformat": 4,
  "nbformat_minor": 0,
  "metadata": {
    "colab": {
      "provenance": []
    },
    "kernelspec": {
      "name": "python3",
      "display_name": "Python 3"
    },
    "language_info": {
      "name": "python"
    }
  },
  "cells": [
    {
      "cell_type": "code",
      "execution_count": 1,
      "metadata": {
        "id": "l3XgBE06a9TK",
        "colab": {
          "base_uri": "https://localhost:8080/"
        },
        "outputId": "9fe95504-a663-4308-e687-4831d690088e"
      },
      "outputs": [
        {
          "output_type": "stream",
          "name": "stdout",
          "text": [
            "Solution 1\n",
            "       ________________                         \n",
            "- 10⋅╲╱ 35 - 20⋅cos(α) ⋅cos(α) + 140⋅cos(α) + 10\n",
            "────────────────────────────────────────────────\n",
            "                 20⋅cos(α) + 1                  \n",
            "\n",
            "Solution 2\n",
            "     ________________                         \n",
            "10⋅╲╱ 35 - 20⋅cos(α) ⋅cos(α) + 140⋅cos(α) + 10\n",
            "──────────────────────────────────────────────\n",
            "                20⋅cos(α) + 1                 \n",
            "\n",
            "Derivative df/dmu\n",
            "  η⋅(μ + ω)⋅cos(α)                \n",
            "- ───────────────── - η⋅cos(α) - 1\n",
            "     ______________               \n",
            "    ╱        2                    \n",
            "  ╲╱  (μ + ω)  - 1                \n",
            "\n",
            "Derivative df/dmu with substituted values\n",
            "  10⋅(μ - 4)⋅cos(α)                \n",
            "- ───────────────── - 10⋅cos(α) - 1\n",
            "     ______________                \n",
            "    ╱        2                     \n",
            "  ╲╱  (μ - 4)  - 1                 \n",
            "\n"
          ]
        }
      ],
      "source": [
        "import sympy as sp\n",
        "from sympy import symbols, Eq, solve, sqrt, cos, sin, simplify\n",
        "import numpy as np\n",
        "import matplotlib.pyplot as plt\n",
        "\n",
        "# Region R_2\n",
        "\n",
        "omega,mu,eta, alpha = sp.symbols('omega mu eta alpha', real=True)\n",
        "\n",
        "omega_val=-4\n",
        "eta_val=10\n",
        "\n",
        "equation_expr = sp.sqrt((omega+mu)**2-1)+mu*((1+eta*sp.cos(alpha))/(eta*sp.cos(alpha)))-(1-omega*sp.cos(alpha))/sp.cos(alpha)\n",
        "equation = sp.Eq(equation_expr, 0)\n",
        "eq_sub = equation.subs({omega: omega_val, eta: eta_val})\n",
        "solutions = sp.solve(eq_sub, mu, dict=False)\n",
        "\n",
        "sol_expr_1=solutions[0]\n",
        "sol_expr_2=solutions[1]\n",
        "\n",
        "print(\"Solution 1\")\n",
        "sp.pprint(sol_expr_1)\n",
        "print()\n",
        "print(\"Solution 2\")\n",
        "sp.pprint(sol_expr_2)\n",
        "print()\n",
        "\n",
        "f_mu_expr=-mu+eta-eta*(omega+mu)*sp.cos(alpha)-eta*sp.sqrt((omega+mu)**2-1)*sp.cos(alpha)\n",
        "df_dmu_expr=sp.diff(f_mu_expr, mu)\n",
        "df_dmu_sub=df_dmu_expr.subs({omega: omega_val, eta: eta_val})\n",
        "\n",
        "print(\"Derivative df/dmu\")\n",
        "sp.pprint(df_dmu_expr)\n",
        "print()\n",
        "\n",
        "print(\"Derivative df/dmu with substituted values\")\n",
        "sp.pprint(df_dmu_sub)\n",
        "print()\n",
        "\n",
        "alpha_min=0\n",
        "alpha_max=2*np.pi\n",
        "n_points=1000\n",
        "alpha_vals=np.linspace(alpha_min, alpha_max, n_points)\n",
        "\n",
        "\n",
        "mu_fun_1=sp.lambdify(alpha, sol_expr_1, 'numpy')\n",
        "mu_fun_2=sp.lambdify(alpha, sol_expr_2, 'numpy')\n",
        "df_dmu_fun=sp.lambdify((alpha, mu), df_dmu_sub, 'numpy')"
      ]
    }
  ]
}